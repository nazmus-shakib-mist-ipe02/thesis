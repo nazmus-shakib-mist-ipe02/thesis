{
  "nbformat": 4,
  "nbformat_minor": 0,
  "metadata": {
    "colab": {
      "name": "M5 - Simple FE.ipynb",
      "provenance": [],
      "collapsed_sections": [],
      "authorship_tag": "ABX9TyOCjgVARmyDWaSSnkJosiag",
      "include_colab_link": true
    },
    "kernelspec": {
      "name": "python3",
      "display_name": "Python 3"
    },
    "accelerator": "GPU"
  },
  "cells": [
    {
      "cell_type": "markdown",
      "metadata": {
        "id": "view-in-github",
        "colab_type": "text"
      },
      "source": [
        "<a href=\"https://colab.research.google.com/github/nazmus-shakib-mist-ipe02/thesis/blob/master/M5_Simple_FE.ipynb\" target=\"_parent\"><img src=\"https://colab.research.google.com/assets/colab-badge.svg\" alt=\"Open In Colab\"/></a>"
      ]
    },
    {
      "cell_type": "code",
      "metadata": {
        "colab": {
          "resources": {
            "http://localhost:8080/nbextensions/google.colab/files.js": {
              "data": "Ly8gQ29weXJpZ2h0IDIwMTcgR29vZ2xlIExMQwovLwovLyBMaWNlbnNlZCB1bmRlciB0aGUgQXBhY2hlIExpY2Vuc2UsIFZlcnNpb24gMi4wICh0aGUgIkxpY2Vuc2UiKTsKLy8geW91IG1heSBub3QgdXNlIHRoaXMgZmlsZSBleGNlcHQgaW4gY29tcGxpYW5jZSB3aXRoIHRoZSBMaWNlbnNlLgovLyBZb3UgbWF5IG9idGFpbiBhIGNvcHkgb2YgdGhlIExpY2Vuc2UgYXQKLy8KLy8gICAgICBodHRwOi8vd3d3LmFwYWNoZS5vcmcvbGljZW5zZXMvTElDRU5TRS0yLjAKLy8KLy8gVW5sZXNzIHJlcXVpcmVkIGJ5IGFwcGxpY2FibGUgbGF3IG9yIGFncmVlZCB0byBpbiB3cml0aW5nLCBzb2Z0d2FyZQovLyBkaXN0cmlidXRlZCB1bmRlciB0aGUgTGljZW5zZSBpcyBkaXN0cmlidXRlZCBvbiBhbiAiQVMgSVMiIEJBU0lTLAovLyBXSVRIT1VUIFdBUlJBTlRJRVMgT1IgQ09ORElUSU9OUyBPRiBBTlkgS0lORCwgZWl0aGVyIGV4cHJlc3Mgb3IgaW1wbGllZC4KLy8gU2VlIHRoZSBMaWNlbnNlIGZvciB0aGUgc3BlY2lmaWMgbGFuZ3VhZ2UgZ292ZXJuaW5nIHBlcm1pc3Npb25zIGFuZAovLyBsaW1pdGF0aW9ucyB1bmRlciB0aGUgTGljZW5zZS4KCi8qKgogKiBAZmlsZW92ZXJ2aWV3IEhlbHBlcnMgZm9yIGdvb2dsZS5jb2xhYiBQeXRob24gbW9kdWxlLgogKi8KKGZ1bmN0aW9uKHNjb3BlKSB7CmZ1bmN0aW9uIHNwYW4odGV4dCwgc3R5bGVBdHRyaWJ1dGVzID0ge30pIHsKICBjb25zdCBlbGVtZW50ID0gZG9jdW1lbnQuY3JlYXRlRWxlbWVudCgnc3BhbicpOwogIGVsZW1lbnQudGV4dENvbnRlbnQgPSB0ZXh0OwogIGZvciAoY29uc3Qga2V5IG9mIE9iamVjdC5rZXlzKHN0eWxlQXR0cmlidXRlcykpIHsKICAgIGVsZW1lbnQuc3R5bGVba2V5XSA9IHN0eWxlQXR0cmlidXRlc1trZXldOwogIH0KICByZXR1cm4gZWxlbWVudDsKfQoKLy8gTWF4IG51bWJlciBvZiBieXRlcyB3aGljaCB3aWxsIGJlIHVwbG9hZGVkIGF0IGEgdGltZS4KY29uc3QgTUFYX1BBWUxPQURfU0laRSA9IDEwMCAqIDEwMjQ7CgpmdW5jdGlvbiBfdXBsb2FkRmlsZXMoaW5wdXRJZCwgb3V0cHV0SWQpIHsKICBjb25zdCBzdGVwcyA9IHVwbG9hZEZpbGVzU3RlcChpbnB1dElkLCBvdXRwdXRJZCk7CiAgY29uc3Qgb3V0cHV0RWxlbWVudCA9IGRvY3VtZW50LmdldEVsZW1lbnRCeUlkKG91dHB1dElkKTsKICAvLyBDYWNoZSBzdGVwcyBvbiB0aGUgb3V0cHV0RWxlbWVudCB0byBtYWtlIGl0IGF2YWlsYWJsZSBmb3IgdGhlIG5leHQgY2FsbAogIC8vIHRvIHVwbG9hZEZpbGVzQ29udGludWUgZnJvbSBQeXRob24uCiAgb3V0cHV0RWxlbWVudC5zdGVwcyA9IHN0ZXBzOwoKICByZXR1cm4gX3VwbG9hZEZpbGVzQ29udGludWUob3V0cHV0SWQpOwp9CgovLyBUaGlzIGlzIHJvdWdobHkgYW4gYXN5bmMgZ2VuZXJhdG9yIChub3Qgc3VwcG9ydGVkIGluIHRoZSBicm93c2VyIHlldCksCi8vIHdoZXJlIHRoZXJlIGFyZSBtdWx0aXBsZSBhc3luY2hyb25vdXMgc3RlcHMgYW5kIHRoZSBQeXRob24gc2lkZSBpcyBnb2luZwovLyB0byBwb2xsIGZvciBjb21wbGV0aW9uIG9mIGVhY2ggc3RlcC4KLy8gVGhpcyB1c2VzIGEgUHJvbWlzZSB0byBibG9jayB0aGUgcHl0aG9uIHNpZGUgb24gY29tcGxldGlvbiBvZiBlYWNoIHN0ZXAsCi8vIHRoZW4gcGFzc2VzIHRoZSByZXN1bHQgb2YgdGhlIHByZXZpb3VzIHN0ZXAgYXMgdGhlIGlucHV0IHRvIHRoZSBuZXh0IHN0ZXAuCmZ1bmN0aW9uIF91cGxvYWRGaWxlc0NvbnRpbnVlKG91dHB1dElkKSB7CiAgY29uc3Qgb3V0cHV0RWxlbWVudCA9IGRvY3VtZW50LmdldEVsZW1lbnRCeUlkKG91dHB1dElkKTsKICBjb25zdCBzdGVwcyA9IG91dHB1dEVsZW1lbnQuc3RlcHM7CgogIGNvbnN0IG5leHQgPSBzdGVwcy5uZXh0KG91dHB1dEVsZW1lbnQubGFzdFByb21pc2VWYWx1ZSk7CiAgcmV0dXJuIFByb21pc2UucmVzb2x2ZShuZXh0LnZhbHVlLnByb21pc2UpLnRoZW4oKHZhbHVlKSA9PiB7CiAgICAvLyBDYWNoZSB0aGUgbGFzdCBwcm9taXNlIHZhbHVlIHRvIG1ha2UgaXQgYXZhaWxhYmxlIHRvIHRoZSBuZXh0CiAgICAvLyBzdGVwIG9mIHRoZSBnZW5lcmF0b3IuCiAgICBvdXRwdXRFbGVtZW50Lmxhc3RQcm9taXNlVmFsdWUgPSB2YWx1ZTsKICAgIHJldHVybiBuZXh0LnZhbHVlLnJlc3BvbnNlOwogIH0pOwp9CgovKioKICogR2VuZXJhdG9yIGZ1bmN0aW9uIHdoaWNoIGlzIGNhbGxlZCBiZXR3ZWVuIGVhY2ggYXN5bmMgc3RlcCBvZiB0aGUgdXBsb2FkCiAqIHByb2Nlc3MuCiAqIEBwYXJhbSB7c3RyaW5nfSBpbnB1dElkIEVsZW1lbnQgSUQgb2YgdGhlIGlucHV0IGZpbGUgcGlja2VyIGVsZW1lbnQuCiAqIEBwYXJhbSB7c3RyaW5nfSBvdXRwdXRJZCBFbGVtZW50IElEIG9mIHRoZSBvdXRwdXQgZGlzcGxheS4KICogQHJldHVybiB7IUl0ZXJhYmxlPCFPYmplY3Q+fSBJdGVyYWJsZSBvZiBuZXh0IHN0ZXBzLgogKi8KZnVuY3Rpb24qIHVwbG9hZEZpbGVzU3RlcChpbnB1dElkLCBvdXRwdXRJZCkgewogIGNvbnN0IGlucHV0RWxlbWVudCA9IGRvY3VtZW50LmdldEVsZW1lbnRCeUlkKGlucHV0SWQpOwogIGlucHV0RWxlbWVudC5kaXNhYmxlZCA9IGZhbHNlOwoKICBjb25zdCBvdXRwdXRFbGVtZW50ID0gZG9jdW1lbnQuZ2V0RWxlbWVudEJ5SWQob3V0cHV0SWQpOwogIG91dHB1dEVsZW1lbnQuaW5uZXJIVE1MID0gJyc7CgogIGNvbnN0IHBpY2tlZFByb21pc2UgPSBuZXcgUHJvbWlzZSgocmVzb2x2ZSkgPT4gewogICAgaW5wdXRFbGVtZW50LmFkZEV2ZW50TGlzdGVuZXIoJ2NoYW5nZScsIChlKSA9PiB7CiAgICAgIHJlc29sdmUoZS50YXJnZXQuZmlsZXMpOwogICAgfSk7CiAgfSk7CgogIGNvbnN0IGNhbmNlbCA9IGRvY3VtZW50LmNyZWF0ZUVsZW1lbnQoJ2J1dHRvbicpOwogIGlucHV0RWxlbWVudC5wYXJlbnRFbGVtZW50LmFwcGVuZENoaWxkKGNhbmNlbCk7CiAgY2FuY2VsLnRleHRDb250ZW50ID0gJ0NhbmNlbCB1cGxvYWQnOwogIGNvbnN0IGNhbmNlbFByb21pc2UgPSBuZXcgUHJvbWlzZSgocmVzb2x2ZSkgPT4gewogICAgY2FuY2VsLm9uY2xpY2sgPSAoKSA9PiB7CiAgICAgIHJlc29sdmUobnVsbCk7CiAgICB9OwogIH0pOwoKICAvLyBXYWl0IGZvciB0aGUgdXNlciB0byBwaWNrIHRoZSBmaWxlcy4KICBjb25zdCBmaWxlcyA9IHlpZWxkIHsKICAgIHByb21pc2U6IFByb21pc2UucmFjZShbcGlja2VkUHJvbWlzZSwgY2FuY2VsUHJvbWlzZV0pLAogICAgcmVzcG9uc2U6IHsKICAgICAgYWN0aW9uOiAnc3RhcnRpbmcnLAogICAgfQogIH07CgogIGNhbmNlbC5yZW1vdmUoKTsKCiAgLy8gRGlzYWJsZSB0aGUgaW5wdXQgZWxlbWVudCBzaW5jZSBmdXJ0aGVyIHBpY2tzIGFyZSBub3QgYWxsb3dlZC4KICBpbnB1dEVsZW1lbnQuZGlzYWJsZWQgPSB0cnVlOwoKICBpZiAoIWZpbGVzKSB7CiAgICByZXR1cm4gewogICAgICByZXNwb25zZTogewogICAgICAgIGFjdGlvbjogJ2NvbXBsZXRlJywKICAgICAgfQogICAgfTsKICB9CgogIGZvciAoY29uc3QgZmlsZSBvZiBmaWxlcykgewogICAgY29uc3QgbGkgPSBkb2N1bWVudC5jcmVhdGVFbGVtZW50KCdsaScpOwogICAgbGkuYXBwZW5kKHNwYW4oZmlsZS5uYW1lLCB7Zm9udFdlaWdodDogJ2JvbGQnfSkpOwogICAgbGkuYXBwZW5kKHNwYW4oCiAgICAgICAgYCgke2ZpbGUudHlwZSB8fCAnbi9hJ30pIC0gJHtmaWxlLnNpemV9IGJ5dGVzLCBgICsKICAgICAgICBgbGFzdCBtb2RpZmllZDogJHsKICAgICAgICAgICAgZmlsZS5sYXN0TW9kaWZpZWREYXRlID8gZmlsZS5sYXN0TW9kaWZpZWREYXRlLnRvTG9jYWxlRGF0ZVN0cmluZygpIDoKICAgICAgICAgICAgICAgICAgICAgICAgICAgICAgICAgICAgJ24vYSd9IC0gYCkpOwogICAgY29uc3QgcGVyY2VudCA9IHNwYW4oJzAlIGRvbmUnKTsKICAgIGxpLmFwcGVuZENoaWxkKHBlcmNlbnQpOwoKICAgIG91dHB1dEVsZW1lbnQuYXBwZW5kQ2hpbGQobGkpOwoKICAgIGNvbnN0IGZpbGVEYXRhUHJvbWlzZSA9IG5ldyBQcm9taXNlKChyZXNvbHZlKSA9PiB7CiAgICAgIGNvbnN0IHJlYWRlciA9IG5ldyBGaWxlUmVhZGVyKCk7CiAgICAgIHJlYWRlci5vbmxvYWQgPSAoZSkgPT4gewogICAgICAgIHJlc29sdmUoZS50YXJnZXQucmVzdWx0KTsKICAgICAgfTsKICAgICAgcmVhZGVyLnJlYWRBc0FycmF5QnVmZmVyKGZpbGUpOwogICAgfSk7CiAgICAvLyBXYWl0IGZvciB0aGUgZGF0YSB0byBiZSByZWFkeS4KICAgIGxldCBmaWxlRGF0YSA9IHlpZWxkIHsKICAgICAgcHJvbWlzZTogZmlsZURhdGFQcm9taXNlLAogICAgICByZXNwb25zZTogewogICAgICAgIGFjdGlvbjogJ2NvbnRpbnVlJywKICAgICAgfQogICAgfTsKCiAgICAvLyBVc2UgYSBjaHVua2VkIHNlbmRpbmcgdG8gYXZvaWQgbWVzc2FnZSBzaXplIGxpbWl0cy4gU2VlIGIvNjIxMTU2NjAuCiAgICBsZXQgcG9zaXRpb24gPSAwOwogICAgd2hpbGUgKHBvc2l0aW9uIDwgZmlsZURhdGEuYnl0ZUxlbmd0aCkgewogICAgICBjb25zdCBsZW5ndGggPSBNYXRoLm1pbihmaWxlRGF0YS5ieXRlTGVuZ3RoIC0gcG9zaXRpb24sIE1BWF9QQVlMT0FEX1NJWkUpOwogICAgICBjb25zdCBjaHVuayA9IG5ldyBVaW50OEFycmF5KGZpbGVEYXRhLCBwb3NpdGlvbiwgbGVuZ3RoKTsKICAgICAgcG9zaXRpb24gKz0gbGVuZ3RoOwoKICAgICAgY29uc3QgYmFzZTY0ID0gYnRvYShTdHJpbmcuZnJvbUNoYXJDb2RlLmFwcGx5KG51bGwsIGNodW5rKSk7CiAgICAgIHlpZWxkIHsKICAgICAgICByZXNwb25zZTogewogICAgICAgICAgYWN0aW9uOiAnYXBwZW5kJywKICAgICAgICAgIGZpbGU6IGZpbGUubmFtZSwKICAgICAgICAgIGRhdGE6IGJhc2U2NCwKICAgICAgICB9LAogICAgICB9OwogICAgICBwZXJjZW50LnRleHRDb250ZW50ID0KICAgICAgICAgIGAke01hdGgucm91bmQoKHBvc2l0aW9uIC8gZmlsZURhdGEuYnl0ZUxlbmd0aCkgKiAxMDApfSUgZG9uZWA7CiAgICB9CiAgfQoKICAvLyBBbGwgZG9uZS4KICB5aWVsZCB7CiAgICByZXNwb25zZTogewogICAgICBhY3Rpb246ICdjb21wbGV0ZScsCiAgICB9CiAgfTsKfQoKc2NvcGUuZ29vZ2xlID0gc2NvcGUuZ29vZ2xlIHx8IHt9OwpzY29wZS5nb29nbGUuY29sYWIgPSBzY29wZS5nb29nbGUuY29sYWIgfHwge307CnNjb3BlLmdvb2dsZS5jb2xhYi5fZmlsZXMgPSB7CiAgX3VwbG9hZEZpbGVzLAogIF91cGxvYWRGaWxlc0NvbnRpbnVlLAp9Owp9KShzZWxmKTsK",
              "ok": true,
              "headers": [
                [
                  "content-type",
                  "application/javascript"
                ]
              ],
              "status": 200,
              "status_text": ""
            }
          },
          "base_uri": "https://localhost:8080/",
          "height": 463
        },
        "id": "AGmCfqFG1uI6",
        "outputId": "56d95fab-b6e0-4f53-fdfb-9b4f5bd2ce2d"
      },
      "source": [
        "! pip install -q kaggle\r\n",
        "\r\n",
        "from google.colab import files\r\n",
        "files.upload()\r\n",
        "\r\n",
        "! mkdir ~/.kaggle\r\n",
        "! cp kaggle.json ~/.kaggle/\r\n",
        "! kaggle competitions download -c 'm5-forecasting-accuracy'\r\n",
        "\r\n",
        "!unzip -q sales_train_validation.csv.zip -d .\r\n",
        "!unzip -q sales_train_evaluation.csv.zip -d .\r\n",
        "!unzip -q sell_prices.csv.zip -d .\r\n",
        "!unzip -q sample_submission.csv.zip -d .\r\n",
        "\r\n",
        "!ls"
      ],
      "execution_count": 1,
      "outputs": [
        {
          "output_type": "display_data",
          "data": {
            "text/html": [
              "\n",
              "     <input type=\"file\" id=\"files-679406bb-6dcf-4e4d-8d45-7ac20813a7f0\" name=\"files[]\" multiple disabled\n",
              "        style=\"border:none\" />\n",
              "     <output id=\"result-679406bb-6dcf-4e4d-8d45-7ac20813a7f0\">\n",
              "      Upload widget is only available when the cell has been executed in the\n",
              "      current browser session. Please rerun this cell to enable.\n",
              "      </output>\n",
              "      <script src=\"/nbextensions/google.colab/files.js\"></script> "
            ],
            "text/plain": [
              "<IPython.core.display.HTML object>"
            ]
          },
          "metadata": {
            "tags": []
          }
        },
        {
          "output_type": "stream",
          "text": [
            "Saving kaggle.json to kaggle.json\n",
            "Warning: Your Kaggle API key is readable by other users on this system! To fix this, you can run 'chmod 600 /root/.kaggle/kaggle.json'\n",
            "Warning: Looks like you're using an outdated API Version, please consider updating (server 1.5.10 / client 1.5.4)\n",
            "Downloading sales_train_evaluation.csv.zip to /content\n",
            " 32% 5.00M/15.8M [00:00<00:00, 13.7MB/s]\n",
            "100% 15.8M/15.8M [00:00<00:00, 35.7MB/s]\n",
            "Downloading sell_prices.csv.zip to /content\n",
            " 35% 5.00M/14.2M [00:00<00:00, 12.6MB/s]\n",
            "100% 14.2M/14.2M [00:00<00:00, 29.0MB/s]\n",
            "Downloading sample_submission.csv.zip to /content\n",
            "  0% 0.00/163k [00:00<?, ?B/s]\n",
            "100% 163k/163k [00:00<00:00, 169MB/s]\n",
            "Downloading calendar.csv to /content\n",
            "  0% 0.00/101k [00:00<?, ?B/s]\n",
            "100% 101k/101k [00:00<00:00, 105MB/s]\n",
            "Downloading sales_train_validation.csv.zip to /content\n",
            " 97% 15.0M/15.5M [00:00<00:00, 154MB/s]\n",
            "100% 15.5M/15.5M [00:00<00:00, 143MB/s]\n",
            "calendar.csv\t\t\tsample_data\n",
            "kaggle.json\t\t\tsample_submission.csv\n",
            "sales_train_evaluation.csv\tsample_submission.csv.zip\n",
            "sales_train_evaluation.csv.zip\tsell_prices.csv\n",
            "sales_train_validation.csv\tsell_prices.csv.zip\n",
            "sales_train_validation.csv.zip\n"
          ],
          "name": "stdout"
        }
      ]
    },
    {
      "cell_type": "code",
      "metadata": {
        "id": "Tj94Q-e46gwn"
      },
      "source": [
        "# General imports\r\n",
        "import numpy as np\r\n",
        "import pandas as pd\r\n",
        "import os, sys, gc, time, warnings, pickle, psutil, random\r\n",
        "\r\n",
        "from math import ceil\r\n",
        "\r\n",
        "from sklearn.preprocessing import LabelEncoder\r\n",
        "\r\n",
        "warnings.filterwarnings('ignore')"
      ],
      "execution_count": 2,
      "outputs": []
    },
    {
      "cell_type": "code",
      "metadata": {
        "id": "pk8tc6XP6jbA"
      },
      "source": [
        "## Simple \"Memory profilers\" to see memory usage\r\n",
        "def get_memory_usage():\r\n",
        "    return np.round(psutil.Process(os.getpid()).memory_info()[0]/2.**30, 2) \r\n",
        "        \r\n",
        "def sizeof_fmt(num, suffix='B'):\r\n",
        "    for unit in ['','Ki','Mi','Gi','Ti','Pi','Ei','Zi']:\r\n",
        "        if abs(num) < 1024.0:\r\n",
        "            return \"%3.1f%s%s\" % (num, unit, suffix)\r\n",
        "        num /= 1024.0\r\n",
        "    return \"%.1f%s%s\" % (num, 'Yi', suffix)"
      ],
      "execution_count": 3,
      "outputs": []
    },
    {
      "cell_type": "code",
      "metadata": {
        "id": "4k6yxNCP6nHH"
      },
      "source": [
        "## Memory Reducer\r\n",
        "# :df pandas dataframe to reduce size             # type: pd.DataFrame()\r\n",
        "# :verbose                                        # type: bool\r\n",
        "def reduce_mem_usage(df, verbose=True):\r\n",
        "    numerics = ['int16', 'int32', 'int64', 'float16', 'float32', 'float64']\r\n",
        "    start_mem = df.memory_usage().sum() / 1024**2    \r\n",
        "    for col in df.columns:\r\n",
        "        col_type = df[col].dtypes\r\n",
        "        if col_type in numerics:\r\n",
        "            c_min = df[col].min()\r\n",
        "            c_max = df[col].max()\r\n",
        "            if str(col_type)[:3] == 'int':\r\n",
        "                if c_min > np.iinfo(np.int8).min and c_max < np.iinfo(np.int8).max:\r\n",
        "                    df[col] = df[col].astype(np.int8)\r\n",
        "                elif c_min > np.iinfo(np.int16).min and c_max < np.iinfo(np.int16).max:\r\n",
        "                       df[col] = df[col].astype(np.int16)\r\n",
        "                elif c_min > np.iinfo(np.int32).min and c_max < np.iinfo(np.int32).max:\r\n",
        "                    df[col] = df[col].astype(np.int32)\r\n",
        "                elif c_min > np.iinfo(np.int64).min and c_max < np.iinfo(np.int64).max:\r\n",
        "                    df[col] = df[col].astype(np.int64)  \r\n",
        "            else:\r\n",
        "                if c_min > np.finfo(np.float16).min and c_max < np.finfo(np.float16).max:\r\n",
        "                    df[col] = df[col].astype(np.float16)\r\n",
        "                elif c_min > np.finfo(np.float32).min and c_max < np.finfo(np.float32).max:\r\n",
        "                    df[col] = df[col].astype(np.float32)\r\n",
        "                else:\r\n",
        "                    df[col] = df[col].astype(np.float64)    \r\n",
        "    end_mem = df.memory_usage().sum() / 1024**2\r\n",
        "    if verbose: print('Mem. usage decreased to {:5.2f} Mb ({:.1f}% reduction)'.format(end_mem, 100 * (start_mem - end_mem) / start_mem))\r\n",
        "    return df"
      ],
      "execution_count": 4,
      "outputs": []
    },
    {
      "cell_type": "code",
      "metadata": {
        "id": "gVW7W1Ut6prJ"
      },
      "source": [
        "## Merging by concat to not lose dtypes\r\n",
        "def merge_by_concat(df1, df2, merge_on):\r\n",
        "    merged_gf = df1[merge_on]\r\n",
        "    merged_gf = merged_gf.merge(df2, on=merge_on, how='left')\r\n",
        "    new_columns = [col for col in list(merged_gf) if col not in merge_on]\r\n",
        "    df1 = pd.concat([df1, merged_gf[new_columns]], axis=1)\r\n",
        "    return df1"
      ],
      "execution_count": 5,
      "outputs": []
    },
    {
      "cell_type": "code",
      "metadata": {
        "id": "ASQ274dZ6q-A"
      },
      "source": [
        "########################### Vars\r\n",
        "#################################################################################\r\n",
        "TARGET = 'sales'         # Our main target\r\n",
        "END_TRAIN = 1913         # Last day in train set\r\n",
        "MAIN_INDEX = ['id','d']  # We can identify item by these columns"
      ],
      "execution_count": 6,
      "outputs": []
    },
    {
      "cell_type": "code",
      "metadata": {
        "colab": {
          "base_uri": "https://localhost:8080/"
        },
        "id": "NnnoiKfx6uPg",
        "outputId": "6b50876f-91eb-46dd-d057-a62f80cb8a8f"
      },
      "source": [
        "########################### Load Data\r\n",
        "#################################################################################\r\n",
        "print('Load Main Data')\r\n",
        "\r\n",
        "# Here are reafing all our data \r\n",
        "# without any limitations and dtype modification\r\n",
        "train_df = pd.read_csv('sales_train_validation.csv')\r\n",
        "prices_df = pd.read_csv('sell_prices.csv')\r\n",
        "calendar_df = pd.read_csv('calendar.csv')"
      ],
      "execution_count": 7,
      "outputs": [
        {
          "output_type": "stream",
          "text": [
            "Load Main Data\n"
          ],
          "name": "stdout"
        }
      ]
    },
    {
      "cell_type": "code",
      "metadata": {
        "colab": {
          "base_uri": "https://localhost:8080/"
        },
        "id": "cFp7Mm5e685f",
        "outputId": "9361c94b-4eb2-46f0-d2ea-f042c03bf8e7"
      },
      "source": [
        "########################### Make Grid\r\n",
        "#################################################################################\r\n",
        "print('Create Grid')\r\n",
        "\r\n",
        "# We can tranform horizontal representation \r\n",
        "# to vertical \"view\"\r\n",
        "# Our \"index\" will be 'id','item_id','dept_id','cat_id','store_id','state_id'\r\n",
        "# and labels are 'd_' coulmns\r\n",
        "\r\n",
        "index_columns = ['id','item_id','dept_id','cat_id','store_id','state_id']\r\n",
        "grid_df = pd.melt(train_df, \r\n",
        "                  id_vars = index_columns, \r\n",
        "                  var_name = 'd', \r\n",
        "                  value_name = TARGET)\r\n",
        "\r\n",
        "# If we look on train_df we se that \r\n",
        "# we don't have a lot of traning rows\r\n",
        "# but each day can provide more train data\r\n",
        "print('Train rows:', len(train_df), len(grid_df))\r\n",
        "\r\n",
        "# To be able to make predictions\r\n",
        "# we need to add \"test set\" to our grid\r\n",
        "add_grid = pd.DataFrame()\r\n",
        "for i in range(1,29):\r\n",
        "    temp_df = train_df[index_columns]\r\n",
        "    temp_df = temp_df.drop_duplicates()\r\n",
        "    temp_df['d'] = 'd_'+ str(END_TRAIN+i)\r\n",
        "    temp_df[TARGET] = np.nan\r\n",
        "    add_grid = pd.concat([add_grid,temp_df])\r\n",
        "\r\n",
        "grid_df = pd.concat([grid_df,add_grid])\r\n",
        "grid_df = grid_df.reset_index(drop=True)\r\n",
        "\r\n",
        "# Remove some temoprary DFs\r\n",
        "del temp_df, add_grid\r\n",
        "\r\n",
        "# We will not need original train_df\r\n",
        "# anymore and can remove it\r\n",
        "del train_df\r\n",
        "\r\n",
        "# You don't have to use df = df construction\r\n",
        "# you can use inplace=True instead.\r\n",
        "# like this\r\n",
        "# grid_df.reset_index(drop=True, inplace=True)\r\n",
        "\r\n",
        "# Let's check our memory usage\r\n",
        "print(\"{:>20}: {:>8}\".format('Original grid_df',sizeof_fmt(grid_df.memory_usage(index=True).sum())))\r\n",
        "\r\n",
        "# We can free some memory \r\n",
        "# by converting \"strings\" to categorical\r\n",
        "# it will not affect merging and \r\n",
        "# we will not lose any valuable data\r\n",
        "for col in index_columns:\r\n",
        "    grid_df[col] = grid_df[col].astype('category')\r\n",
        "\r\n",
        "# Let's check again memory usage\r\n",
        "print(\"{:>20}: {:>8}\".format('Reduced grid_df',sizeof_fmt(grid_df.memory_usage(index=True).sum())))"
      ],
      "execution_count": 8,
      "outputs": [
        {
          "output_type": "stream",
          "text": [
            "Create Grid\n",
            "Train rows: 30490 58327370\n",
            "    Original grid_df:   3.5GiB\n",
            "     Reduced grid_df:   1.3GiB\n"
          ],
          "name": "stdout"
        }
      ]
    },
    {
      "cell_type": "code",
      "metadata": {
        "colab": {
          "base_uri": "https://localhost:8080/"
        },
        "id": "9Cbf4wlAZdmI",
        "outputId": "8aca71c8-b312-40f1-bce1-46c401c653ec"
      },
      "source": [
        "########################### Product Release date\r\n",
        "#################################################################################\r\n",
        "print('Release week')\r\n",
        "\r\n",
        "# It seems that leadings zero values\r\n",
        "# in each train_df item row\r\n",
        "# are not real 0 sales but mean\r\n",
        "# absence for the item in the store\r\n",
        "# we can safe some memory by removing\r\n",
        "# such zeros\r\n",
        "\r\n",
        "# Prices are set by week\r\n",
        "# so it we will have not very accurate release week \r\n",
        "release_df = prices_df.groupby(['store_id','item_id'])['wm_yr_wk'].agg(['min']).reset_index()\r\n",
        "release_df.columns = ['store_id','item_id','release']\r\n",
        "\r\n",
        "# Now we can merge release_df\r\n",
        "grid_df = merge_by_concat(grid_df, release_df, ['store_id','item_id'])\r\n",
        "del release_df\r\n",
        "\r\n",
        "# We want to remove some \"zeros\" rows\r\n",
        "# from grid_df \r\n",
        "# to do it we need wm_yr_wk column\r\n",
        "# let's merge partly calendar_df to have it\r\n",
        "grid_df = merge_by_concat(grid_df, calendar_df[['wm_yr_wk','d']], ['d'])\r\n",
        "                      \r\n",
        "# Now we can cutoff some rows \r\n",
        "# and safe memory \r\n",
        "grid_df = grid_df[grid_df['wm_yr_wk']>=grid_df['release']]\r\n",
        "grid_df = grid_df.reset_index(drop=True)\r\n",
        "\r\n",
        "# Let's check our memory usage\r\n",
        "print(\"{:>20}: {:>8}\".format('Original grid_df',sizeof_fmt(grid_df.memory_usage(index=True).sum())))\r\n",
        "\r\n",
        "# Should we keep release week \r\n",
        "# as one of the features?\r\n",
        "# Only good CV can give the answer.\r\n",
        "# Let's minify the release values.\r\n",
        "# Min transformation will not help here \r\n",
        "# as int16 -> Integer (-32768 to 32767)\r\n",
        "# and our grid_df['release'].max() serves for int16\r\n",
        "# but we have have an idea how to transform \r\n",
        "# other columns in case we will need it\r\n",
        "grid_df['release'] = grid_df['release'] - grid_df['release'].min()\r\n",
        "grid_df['release'] = grid_df['release'].astype(np.int16)\r\n",
        "\r\n",
        "# Let's check again memory usage\r\n",
        "print(\"{:>20}: {:>8}\".format('Reduced grid_df',sizeof_fmt(grid_df.memory_usage(index=True).sum())))"
      ],
      "execution_count": 9,
      "outputs": [
        {
          "output_type": "stream",
          "text": [
            "Release week\n",
            "    Original grid_df:   1.7GiB\n",
            "     Reduced grid_df:   1.5GiB\n"
          ],
          "name": "stdout"
        }
      ]
    },
    {
      "cell_type": "code",
      "metadata": {
        "colab": {
          "base_uri": "https://localhost:8080/"
        },
        "id": "Ns1eqXoGaz7q",
        "outputId": "9dabedaa-2ad9-4ece-89c6-cd02c62554d9"
      },
      "source": [
        "########################### Save part 1\r\n",
        "#################################################################################\r\n",
        "print('Save Part 1')\r\n",
        "\r\n",
        "# We have our BASE grid ready\r\n",
        "# and can save it as pickle file\r\n",
        "# for future use (model training)\r\n",
        "grid_df.to_pickle('grid_part_1.pkl')\r\n",
        "\r\n",
        "print('Size:', grid_df.shape)"
      ],
      "execution_count": 10,
      "outputs": [
        {
          "output_type": "stream",
          "text": [
            "Save Part 1\n",
            "Size: (46881677, 10)\n"
          ],
          "name": "stdout"
        }
      ]
    },
    {
      "cell_type": "code",
      "metadata": {
        "colab": {
          "base_uri": "https://localhost:8080/"
        },
        "id": "HI2l7q-fa2SB",
        "outputId": "f5821970-4508-4d78-b328-b3ed57d35c04"
      },
      "source": [
        "########################### Prices\r\n",
        "#################################################################################\r\n",
        "print('Prices')\r\n",
        "\r\n",
        "# We can do some basic aggregations\r\n",
        "prices_df['price_max'] = prices_df.groupby(['store_id','item_id'])['sell_price'].transform('max')\r\n",
        "prices_df['price_min'] = prices_df.groupby(['store_id','item_id'])['sell_price'].transform('min')\r\n",
        "prices_df['price_std'] = prices_df.groupby(['store_id','item_id'])['sell_price'].transform('std')\r\n",
        "prices_df['price_mean'] = prices_df.groupby(['store_id','item_id'])['sell_price'].transform('mean')\r\n",
        "\r\n",
        "# and do price normalization (min/max scaling)\r\n",
        "prices_df['price_norm'] = prices_df['sell_price']/prices_df['price_max']\r\n",
        "\r\n",
        "# Some items are can be inflation dependent\r\n",
        "# and some items are very \"stable\"\r\n",
        "prices_df['price_nunique'] = prices_df.groupby(['store_id','item_id'])['sell_price'].transform('nunique')\r\n",
        "prices_df['item_nunique'] = prices_df.groupby(['store_id','sell_price'])['item_id'].transform('nunique')\r\n",
        "\r\n",
        "# I would like some \"rolling\" aggregations\r\n",
        "# but would like months and years as \"window\"\r\n",
        "calendar_prices = calendar_df[['wm_yr_wk','month','year']]\r\n",
        "calendar_prices = calendar_prices.drop_duplicates(subset=['wm_yr_wk'])\r\n",
        "prices_df = prices_df.merge(calendar_prices[['wm_yr_wk','month','year']], on=['wm_yr_wk'], how='left')\r\n",
        "del calendar_prices\r\n",
        "\r\n",
        "# Now we can add price \"momentum\" (some sort of)\r\n",
        "# Shifted by week \r\n",
        "# by month mean\r\n",
        "# by year mean\r\n",
        "prices_df['price_momentum'] = prices_df['sell_price']/prices_df.groupby(['store_id','item_id'])['sell_price'].transform(lambda x: x.shift(1))\r\n",
        "prices_df['price_momentum_m'] = prices_df['sell_price']/prices_df.groupby(['store_id','item_id','month'])['sell_price'].transform('mean')\r\n",
        "prices_df['price_momentum_y'] = prices_df['sell_price']/prices_df.groupby(['store_id','item_id','year'])['sell_price'].transform('mean')\r\n",
        "\r\n",
        "del prices_df['month'], prices_df['year']"
      ],
      "execution_count": 11,
      "outputs": [
        {
          "output_type": "stream",
          "text": [
            "Prices\n"
          ],
          "name": "stdout"
        }
      ]
    },
    {
      "cell_type": "code",
      "metadata": {
        "colab": {
          "base_uri": "https://localhost:8080/"
        },
        "id": "ZnPqb-9Wa71y",
        "outputId": "08f3d066-1371-48ff-bd85-1c04da52f9fc"
      },
      "source": [
        "########################### Merge prices and save part 2\r\n",
        "#################################################################################\r\n",
        "print('Merge prices and save part 2')\r\n",
        "\r\n",
        "# Merge Prices\r\n",
        "original_columns = list(grid_df)\r\n",
        "grid_df = grid_df.merge(prices_df, on=['store_id','item_id','wm_yr_wk'], how='left')\r\n",
        "keep_columns = [col for col in list(grid_df) if col not in original_columns]\r\n",
        "grid_df = grid_df[MAIN_INDEX+keep_columns]\r\n",
        "grid_df = reduce_mem_usage(grid_df)\r\n",
        "\r\n",
        "# Safe part 2\r\n",
        "grid_df.to_pickle('grid_part_2.pkl')\r\n",
        "print('Size:', grid_df.shape)\r\n",
        "\r\n",
        "# We don't need prices_df anymore\r\n",
        "del prices_df\r\n",
        "\r\n",
        "# We can remove new columns\r\n",
        "# or just load part_1\r\n",
        "grid_df = pd.read_pickle('grid_part_1.pkl')"
      ],
      "execution_count": null,
      "outputs": [
        {
          "output_type": "stream",
          "text": [
            "Merge prices and save part 2\n"
          ],
          "name": "stdout"
        }
      ]
    },
    {
      "cell_type": "code",
      "metadata": {
        "id": "kOIJqh4Xa9A_"
      },
      "source": [
        "########################### Merge calendar\r\n",
        "#################################################################################\r\n",
        "grid_df = grid_df[MAIN_INDEX]\r\n",
        "\r\n",
        "# Merge calendar partly\r\n",
        "icols = ['date',\r\n",
        "         'd',\r\n",
        "         'event_name_1',\r\n",
        "         'event_type_1',\r\n",
        "         'event_name_2',\r\n",
        "         'event_type_2',\r\n",
        "         'snap_CA',\r\n",
        "         'snap_TX',\r\n",
        "         'snap_WI']\r\n",
        "\r\n",
        "grid_df = grid_df.merge(calendar_df[icols], on=['d'], how='left')\r\n",
        "\r\n",
        "# Minify data\r\n",
        "# 'snap_' columns we can convert to bool or int8\r\n",
        "icols = ['event_name_1',\r\n",
        "         'event_type_1',\r\n",
        "         'event_name_2',\r\n",
        "         'event_type_2',\r\n",
        "         'snap_CA',\r\n",
        "         'snap_TX',\r\n",
        "         'snap_WI']\r\n",
        "for col in icols:\r\n",
        "    grid_df[col] = grid_df[col].astype('category')\r\n",
        "\r\n",
        "# Convert to DateTime\r\n",
        "grid_df['date'] = pd.to_datetime(grid_df['date'])\r\n",
        "\r\n",
        "# Make some features from date\r\n",
        "grid_df['tm_d'] = grid_df['date'].dt.day.astype(np.int8)\r\n",
        "grid_df['tm_w'] = grid_df['date'].dt.week.astype(np.int8)\r\n",
        "grid_df['tm_m'] = grid_df['date'].dt.month.astype(np.int8)\r\n",
        "grid_df['tm_y'] = grid_df['date'].dt.year\r\n",
        "grid_df['tm_y'] = (grid_df['tm_y'] - grid_df['tm_y'].min()).astype(np.int8)\r\n",
        "grid_df['tm_wm'] = grid_df['tm_d'].apply(lambda x: ceil(x/7)).astype(np.int8)\r\n",
        "\r\n",
        "grid_df['tm_dw'] = grid_df['date'].dt.dayofweek.astype(np.int8)\r\n",
        "grid_df['tm_w_end'] = (grid_df['tm_dw']>=5).astype(np.int8)\r\n",
        "\r\n",
        "# Remove date\r\n",
        "del grid_df['date']"
      ],
      "execution_count": null,
      "outputs": []
    },
    {
      "cell_type": "code",
      "metadata": {
        "id": "o_Z_V1m4bBmn"
      },
      "source": [
        "########################### Save part 3 (Dates)\r\n",
        "#################################################################################\r\n",
        "print('Save part 3')\r\n",
        "\r\n",
        "# Safe part 3\r\n",
        "grid_df.to_pickle('grid_part_3.pkl')\r\n",
        "print('Size:', grid_df.shape)\r\n",
        "\r\n",
        "# We don't need calendar_df anymore\r\n",
        "del calendar_df\r\n",
        "del grid_df"
      ],
      "execution_count": null,
      "outputs": []
    },
    {
      "cell_type": "code",
      "metadata": {
        "id": "d7xE8K5EbDnw"
      },
      "source": [
        "########################### Some additional cleaning\r\n",
        "#################################################################################\r\n",
        "\r\n",
        "## Part 1\r\n",
        "# Convert 'd' to int\r\n",
        "grid_df = pd.read_pickle('grid_part_1.pkl')\r\n",
        "grid_df['d'] = grid_df['d'].apply(lambda x: x[2:]).astype(np.int16)\r\n",
        "\r\n",
        "# Remove 'wm_yr_wk'\r\n",
        "# as test values are not in train set\r\n",
        "del grid_df['wm_yr_wk']\r\n",
        "grid_df.to_pickle('grid_part_1.pkl')\r\n",
        "\r\n",
        "del grid_df"
      ],
      "execution_count": null,
      "outputs": []
    },
    {
      "cell_type": "code",
      "metadata": {
        "id": "x0vAT85xbJDf"
      },
      "source": [
        "########################### Summary\r\n",
        "#################################################################################\r\n",
        "\r\n",
        "# Now we have 3 sets of features\r\n",
        "grid_df = pd.concat([pd.read_pickle('grid_part_1.pkl'),\r\n",
        "                     pd.read_pickle('grid_part_2.pkl').iloc[:,2:],\r\n",
        "                     pd.read_pickle('grid_part_3.pkl').iloc[:,2:]],\r\n",
        "                     axis=1)\r\n",
        "                     \r\n",
        "# Let's check again memory usage\r\n",
        "print(\"{:>20}: {:>8}\".format('Full Grid',sizeof_fmt(grid_df.memory_usage(index=True).sum())))\r\n",
        "print('Size:', grid_df.shape)\r\n",
        "\r\n",
        "# 2.5GiB + is is still too big to train our model\r\n",
        "# (on kaggle with its memory limits)\r\n",
        "# and we don't have lag features yet\r\n",
        "# But what if we can train by state_id or shop_id?\r\n",
        "state_id = 'CA'\r\n",
        "grid_df = grid_df[grid_df['state_id']==state_id]\r\n",
        "print(\"{:>20}: {:>8}\".format('Full Grid',sizeof_fmt(grid_df.memory_usage(index=True).sum())))\r\n",
        "#           Full Grid:   1.2GiB\r\n",
        "\r\n",
        "store_id = 'CA_1'\r\n",
        "grid_df = grid_df[grid_df['store_id']==store_id]\r\n",
        "print(\"{:>20}: {:>8}\".format('Full Grid',sizeof_fmt(grid_df.memory_usage(index=True).sum())))\r\n",
        "#           Full Grid: 321.2MiB\r\n",
        "\r\n",
        "# Seems its good enough now\r\n",
        "# In other kernel we will talk about LAGS features\r\n",
        "# Thank you."
      ],
      "execution_count": null,
      "outputs": []
    },
    {
      "cell_type": "code",
      "metadata": {
        "id": "xQrBuvlNbL9X"
      },
      "source": [
        "########################### Final list of features\r\n",
        "#################################################################################\r\n",
        "grid_df.info()"
      ],
      "execution_count": null,
      "outputs": []
    }
  ]
}